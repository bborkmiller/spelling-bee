{
 "cells": [
  {
   "cell_type": "code",
   "execution_count": 1,
   "id": "0f4ae6c8-8c96-47dc-8174-49cc79703a76",
   "metadata": {},
   "outputs": [],
   "source": [
    "import spelling_bee"
   ]
  },
  {
   "cell_type": "code",
   "execution_count": 77,
   "id": "5677aa4b-3b35-4064-8387-5963a658e244",
   "metadata": {},
   "outputs": [],
   "source": [
    "official_grid_text = \"\"\"\n",
    "\t4\t5\t6\t7\t8\t10\tΣ\n",
    "B:\t1\t3\t2\t2\t-\t-\t8\n",
    "G:\t5\t1\t1\t-\t-\t-\t7\n",
    "O:\t-\t2\t-\t-\t-\t1\t3\n",
    "R:\t-\t1\t1\t-\t-\t-\t2\n",
    "T:\t1\t1\t2\t2\t1\t1\t8\n",
    "Σ:\t7\t8\t6\t4\t1\t2\t28\n",
    "Two letter list:\n",
    "\n",
    "BO-4 BR-1 BU-3\n",
    "GO-2 GR-4 GU-1\n",
    "OU-3\n",
    "RO-2\n",
    "TH-6 TO-1 TR-1\"\"\""
   ]
  },
  {
   "cell_type": "code",
   "execution_count": 75,
   "id": "f97762d2-2cc5-4b82-905c-250f3f081f62",
   "metadata": {},
   "outputs": [],
   "source": [
    "paste = \"\"\"\n",
    "Borough\n",
    "Bough\n",
    "Bought\n",
    "Brought\n",
    "Burg\n",
    "Burgh\n",
    "Goth\n",
    "Gout\n",
    "Grog\n",
    "Grotto\n",
    "Grout\n",
    "Grub\n",
    "Guru\n",
    "Ought\n",
    "Outgo\n",
    "Rotgut\n",
    "Rough\n",
    "Thorough\n",
    "Thought\n",
    "Through\n",
    "Thug\n",
    "Tough\n",
    "Trough\n",
    "\"\"\""
   ]
  },
  {
   "cell_type": "code",
   "execution_count": null,
   "id": "8110d84d-7e4b-4860-bd76-fe7d86bdb74b",
   "metadata": {},
   "outputs": [],
   "source": [
    "reload(spelling_bee)\n",
    "bee = spelling_bee.SpellingBee()\n",
    "\n",
    "bee.read_found_words(paste)\n",
    "bee.read_official_grid(official_grid_text)\n",
    "\n",
    "# bee.print_counts()\n",
    "# print()\n",
    "# bee.print_grid_comparison()\n",
    "# print()\n",
    "# bee.print_two_letter_list_comparison()\n",
    "# bee.import_puzzle()\n",
    "bee.print_counts(\"official\")"
   ]
  },
  {
   "cell_type": "code",
   "execution_count": null,
   "id": "74486e4e",
   "metadata": {},
   "outputs": [],
   "source": [
    "reload(spelling_bee)\n",
    "bee = spelling_bee.SpellingBee()\n",
    "bee.read_found_words(paste)\n",
    "\n",
    "bee.print_counts()\n",
    "print()\n",
    "# bee.print_grid_comparison()\n",
    "# bee.print_two_letter_list_comparison()\n",
    "bee.print_comparison()"
   ]
  }
 ],
 "metadata": {
  "kernelspec": {
   "display_name": "Python 3.9.7 ('py39')",
   "language": "python",
   "name": "python3"
  },
  "language_info": {
   "codemirror_mode": {
    "name": "ipython",
    "version": 3
   },
   "file_extension": ".py",
   "mimetype": "text/x-python",
   "name": "python",
   "nbconvert_exporter": "python",
   "pygments_lexer": "ipython3",
   "version": "3.9.7"
  },
  "vscode": {
   "interpreter": {
    "hash": "392c28b86312ae65f945260939b013382e095569be3c243630bbf7b98abaeac1"
   }
  }
 },
 "nbformat": 4,
 "nbformat_minor": 5
}
