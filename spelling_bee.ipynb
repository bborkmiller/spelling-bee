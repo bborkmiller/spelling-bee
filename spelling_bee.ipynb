{
 "cells": [
  {
   "cell_type": "code",
   "execution_count": 1,
   "id": "0f4ae6c8-8c96-47dc-8174-49cc79703a76",
   "metadata": {},
   "outputs": [],
   "source": [
    "import spelling_bee"
   ]
  },
  {
   "cell_type": "code",
   "execution_count": 2,
   "id": "5677aa4b-3b35-4064-8387-5963a658e244",
   "metadata": {},
   "outputs": [],
   "source": [
    "official_grid_text = \"\"\"\n",
    "         4\t  5\t  6\t  7\t  8\t  9\t  Σ\n",
    "A:\t  -\t  -\t  -\t  -\t  1\t  -\t  1\n",
    "C:\t  2\t  1\t  -\t  -\t  -\t  -\t  3\n",
    "H:\t  1\t  1\t  -\t  -\t  1\t  -\t  3\n",
    "I:\t  1\t  -\t  -\t  -\t  -\t  -\t 1\n",
    "M:    7\t  5\t  2\t  1\t  2\t  1\t 18\n",
    "T:\t  2\t  -\t  3\t  1\t  -\t  -\t  6\n",
    "Σ:\t 13\t  7\t  5\t  2\t  4\t  1\t 32\n",
    "\n",
    "Two letter list:\n",
    "\n",
    "AR-1\n",
    "CA-1 CH-1 CR-1\n",
    "HA-3\n",
    "IM-1\n",
    "MA-14 MI-4\n",
    "TA-3 TR-3\"\"\""
   ]
  },
  {
   "cell_type": "code",
   "execution_count": 3,
   "id": "f97762d2-2cc5-4b82-905c-250f3f081f62",
   "metadata": {},
   "outputs": [],
   "source": [
    "paste = \"\"\"\n",
    "Cami\n",
    "Charm\n",
    "Cram\n",
    "Harm\n",
    "Imam\n",
    "Maim\n",
    "Mama\n",
    "Mamma\n",
    "Mart\n",
    "Match\n",
    "Matcha\n",
    "Math\n",
    "Matriarch\n",
    "Mica\n",
    "Mirth\n",
    "Mitt\n",
    "Tram\n",
    "Trim\n",
    "\"\"\""
   ]
  },
  {
   "cell_type": "code",
   "execution_count": 5,
   "id": "8110d84d-7e4b-4860-bd76-fe7d86bdb74b",
   "metadata": {},
   "outputs": [
    {
     "name": "stdout",
     "output_type": "stream",
     "text": [
      "\u001b[1m- Official Grid\u001b[0m\n",
      "\u001b[1m    4  5  6  7  8   Σ\n",
      "\u001b[0m\u001b[1mA\u001b[0m:  2  -  1  1  3\u001b[1m   7\u001b[0m\n",
      "\u001b[1mC\u001b[0m:  -  -  -  -  1\u001b[1m   1\u001b[0m\n",
      "\u001b[1mI\u001b[0m:  -  -  1  -  -\u001b[1m   1\u001b[0m\n",
      "\u001b[1mQ\u001b[0m:  1  2  2  -  1\u001b[1m   6\u001b[0m\n",
      "\u001b[1mT\u001b[0m:  3  3  -  -  -\u001b[1m   6\u001b[0m\n",
      "\u001b[1mU\u001b[0m:  1  1  -  -  -\u001b[1m   2\u001b[0m\n",
      "\u001b[1mΣ:  7  6  4  1  5  23\u001b[0m\n",
      "\n",
      "AC-2 AQ-4 AU-1 \n",
      "CI-1 \n",
      "IN-1 \n",
      "QU-6 \n",
      "TA-2 TU-4 \n",
      "UN-2 \n"
     ]
    }
   ],
   "source": [
    "bee = spelling_bee.SpellingBee()\n",
    "# bee.read_found_words(paste)\n",
    "# bee.read_official_grid(official_grid_text)\n",
    "\n",
    "# bee.print_counts()\n",
    "# print()\n",
    "# bee.print_grid_comparison()\n",
    "# print()\n",
    "# bee.print_two_letter_list_comparison()\n",
    "bee.import_puzzle()\n",
    "bee.print_official_counts()"
   ]
  }
 ],
 "metadata": {
  "kernelspec": {
   "display_name": "Python 3 (ipykernel)",
   "language": "python",
   "name": "python3"
  },
  "language_info": {
   "codemirror_mode": {
    "name": "ipython",
    "version": 3
   },
   "file_extension": ".py",
   "mimetype": "text/x-python",
   "name": "python",
   "nbconvert_exporter": "python",
   "pygments_lexer": "ipython3",
   "version": "3.9.7"
  }
 },
 "nbformat": 4,
 "nbformat_minor": 5
}
